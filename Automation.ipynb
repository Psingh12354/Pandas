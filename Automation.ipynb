{
 "cells": [
  {
   "cell_type": "markdown",
   "metadata": {},
   "source": [
    "Libraries Required"
   ]
  },
  {
   "cell_type": "code",
   "execution_count": null,
   "metadata": {},
   "outputs": [],
   "source": [
    "import pandas as pd\n",
    "import os \n",
    "import numpy as np\n",
    "import glob\n",
    "import subprocess,openpyxl\n",
    "from openpyxl import load_workbook\n",
    "import re\n",
    "import xlsxwriter\n",
    "import zipfile"
   ]
  },
  {
   "cell_type": "markdown",
   "metadata": {},
   "source": [
    "Step 1.1 Below code will help to zip all the files under one folder"
   ]
  },
  {
   "cell_type": "code",
   "execution_count": null,
   "metadata": {},
   "outputs": [],
   "source": [
    "def zip_files_in_folder(folder_path):\n",
    "    for file_name in os.listdir(folder_path):\n",
    "        # define the file extension\n",
    "        if file_name.endswith(\".xml\"): \n",
    "            file_name_1 = file_name.split('.')[0]\n",
    "            file_path = os.path.join(folder_path, file_name)\n",
    "            zip_file_path = os.path.join(folder_path, f\"{file_name_1}.zip\")\n",
    " \n",
    "            with zipfile.ZipFile(zip_file_path, 'w',zipfile.ZIP_DEFLATED) as zip_file:\n",
    "                zip_file.write(file_path, file_name)\n",
    " \n",
    "if __name__ == \"__main__\":\n",
    "    folder_path = \"Path\"  # Replace with your actual folder path\n",
    "    zip_files_in_folder(folder_path)"
   ]
  },
  {
   "cell_type": "markdown",
   "metadata": {},
   "source": [
    "Step 1.2 To process the files using connector use below code."
   ]
  },
  {
   "cell_type": "code",
   "execution_count": null,
   "metadata": {},
   "outputs": [],
   "source": [
    "# All files & Folder for this particular script must be kept under below path\n",
    "folder = 'Path' # Enter folder location\n",
    "jarFile = f'{folder}Connector_Name.jar'\n",
    "#Download Metadata template and put it inside another folder with folder name as \"excel\"  \n",
    "base = f'{folder}excel\\\\Template_Name.xlsx'\n",
    "# Mention which type of file format trying to read like below have .zip extension\n",
    "file_list = glob.glob(folder + \"/*.zip\")\n",
    "for i in range(len(file_list)):\n",
    "    data = file_list[i].split('.')[0]\n",
    "    wb=openpyxl.load_workbook(base)\n",
    "    output_excel = f'{data}.xlsx'\n",
    "    wb.save(output_excel)\n",
    "    print(output_excel)\n",
    "    try:\n",
    "        cmd = f'cmd /c java -jar \"{jarFile}\" \"{file_list[i]}\" \"{output_excel}\"'\n",
    "        subprocess.run(cmd,shell=True,check=True)\n",
    "    except Exception as e:\n",
    "        print(f'{data} : {e}')"
   ]
  },
  {
   "cell_type": "markdown",
   "metadata": {},
   "source": [
    "Step 2.1 To handle duplicate in one column while merging use below code "
   ]
  },
  {
   "cell_type": "code",
   "execution_count": null,
   "metadata": {},
   "outputs": [],
   "source": [
    "all_data = pd.DataFrame()\n",
    "# Specify the folder containing your Excel files\n",
    "folder_path = \"Path\"\n",
    "file_list = glob.glob(folder_path + \"/*.xlsx\")\n",
    "count = 0\n",
    "for i in file_list: \n",
    "    print(i)\n",
    "    # Define the sheet name if any\n",
    "    df = pd.read_excel(i, header=0, sheet_name='Attribute Level Metadata')\n",
    "    all_data=all_data.drop_duplicates()\n",
    "    df = df.drop_duplicates()\n",
    "    if 'REPORT_NAME' in all_data.columns:\n",
    "        # Update report names with the appropriate suffix for instances in the second file\n",
    "        report_names_set = set(all_data['REPORT_NAME'])\n",
    "    # Update report names with the appropriate suffix\n",
    "        for index, row in df.iterrows():\n",
    "            report_name = row['REPORT_NAME']\n",
    "            if report_name in report_names_set:\n",
    "                df.at[index, 'REPORT_NAME'] += f\"_1\"\n",
    "                count=2\n",
    "                while True:\n",
    "                    if df.at[index, 'REPORT_NAME'] in report_names_set:\n",
    "                        df.at[index, 'REPORT_NAME']= df.at[index, 'REPORT_NAME'][:-2]+f\"_{count}\"\n",
    "                        print(df.at[index, 'REPORT_NAME'])\n",
    "                        count+=1\n",
    "                    else:\n",
    "                        break\n",
    "    all_data = all_data._append(df, ignore_index=True)\n",
    "print('outside loop')\n",
    "output_file_path = f\"{folder_path}\"\n",
    "rows_per_file = 1000000\n",
    "number_of_files = ((len(all_data)//rows_per_file))+1\n",
    "start_index=0\n",
    "end_index = rows_per_file\n",
    "for i in range(number_of_files):\n",
    "    filepart = f'{folder_path}\\\\final_{i}.xlsx'\n",
    "    writer = pd.ExcelWriter(filepart)\n",
    "    df_mod = all_data.iloc[start_index:end_index]\n",
    "    df_mod.to_excel(writer, index=False, sheet_name='sheet')\n",
    "    start_index = end_index\n",
    "    end_index = end_index + rows_per_file\n",
    "    writer.close()\n",
    "print(\"Data merged and saved to\", output_file_path)"
   ]
  },
  {
   "cell_type": "markdown",
   "metadata": {},
   "source": [
    "Step 3.1 Below code will help you to perform package splitting"
   ]
  },
  {
   "cell_type": "code",
   "execution_count": null,
   "metadata": {},
   "outputs": [],
   "source": [
    "# Enter the folder Name in which your output will be generated\n",
    "package='Package_Name'\n",
    "# Give the folder location of parent dir\n",
    "parent = 'Path'\n",
    "# Give excel location which you want to read usually the generated excel from previous code\n",
    "data_df = pd.read_excel(r\"Path\\\\Excel_Name.xlsx\",header=0)\n",
    "path=os.path.join(parent,package)\n",
    "os.makedirs(path, exist_ok=True)\n",
    "try:\n",
    "    # Define the column name according to which grouping will perfomed\n",
    "    grouped_df = data_df.groupby('ATTRIBUTE_AGGREGATION')\n",
    "except Exception as e:\n",
    "    pass\n",
    "for data in grouped_df:\n",
    "    try:\n",
    "        print(data[0])\n",
    "        grouped_df.get_group(data[0]).to_excel(f\"{parent}{package}\\\\\"+data[0]+\".xlsx\",index=False)\n",
    "    except Exception as e:\n",
    "        value = re.findall(r\"'([^']*)'\",data[0])\n",
    "        if len(value)>0:\n",
    "            print(value[-1])\n",
    "            grouped_df.get_group(data[0]).to_excel(f\"{parent}{package}\\\\\"+value[-1]+\".xlsx\",index=False)\n",
    "        else:\n",
    "            if '/' in data[0]:\n",
    "                value_1 = data[0].replace('/','_')\n",
    "                print(value_1)\n",
    "                grouped_df.get_group(data[0]).to_excel(f\"{parent}{package}\\\\\"+value_1+\".xlsx\",index=False)"
   ]
  },
  {
   "cell_type": "markdown",
   "metadata": {},
   "source": [
    "Step 4.1 If the file name of both excel is same it will merge the excel and save it in Target directory."
   ]
  },
  {
   "cell_type": "code",
   "execution_count": null,
   "metadata": {},
   "outputs": [],
   "source": [
    "# Give both the folder location\n",
    "folder_path = \"Folder_1\"\n",
    "file_list = glob.glob(folder_path + \"/*.xlsx\")\n",
    "folder_path_1 = \"Folder_2\"\n",
    "# Define Output folder name below\n",
    "file_list_1 = glob.glob(folder_path_1 + \"/*.xlsx\")\n",
    "count=0\n",
    "for i in file_list:\n",
    "    data1 = i.split('\\\\')[-1]\n",
    "    data1 = re.sub('.xlsx','',data1)\n",
    "    for j in file_list_1:\n",
    "        data2 = j.split('\\\\')[-1]\n",
    "        data2 = re.sub('.xlsx','',data2)\n",
    "        if data1==data2:\n",
    "            count+=1\n",
    "            try:\n",
    "                df1 = pd.read_excel(i, header=0)\n",
    "                df2 = pd.read_excel(j, header=0)\n",
    "                df3 = df1._append(df2, ignore_index=True)\n",
    "                df3= df3.drop_duplicates()\n",
    "                # Below create a folder manually and define the path\n",
    "                path = f\"Folder Name\\\\{data2}.xlsx\"\n",
    "                df3.to_excel(path, sheet_name='Sheet1', index=False)\n",
    "            except Exception as e:\n",
    "                print(e)\n",
    "            break\n",
    "print(count)"
   ]
  },
  {
   "cell_type": "markdown",
   "metadata": {},
   "source": [
    "Step 5.1 To extract unique report count from multiple packages/metadata use below code"
   ]
  },
  {
   "cell_type": "code",
   "execution_count": null,
   "metadata": {},
   "outputs": [],
   "source": [
    "df2 = pd.DataFrame(columns=['Package','Report_Count','Desc_Count'])\n",
    "#Give the source folder location\n",
    "file_list_1 = glob.glob(r'Folder_Location' + \"/*.xlsx\")\n",
    "for i in file_list_1:\n",
    "    print(i)\n",
    "    file_name = i.split('\\\\')[-1]\n",
    "    file_name = re.sub('.xlsx','',file_name)\n",
    "    try:\n",
    "        df = pd.read_excel(i, header=0)\n",
    "    except Exception as e:\n",
    "        print(e)\n",
    "    report_name_count=len(df['REPORT_NAME'].unique())\n",
    "    report_desc_count=len(df['REPORT_DESCRIPTION'].unique())\n",
    "    df2 = df2._append({'Package':file_name,'Report_Count':report_name_count,'Desc_Count':report_desc_count},ignore_index=True)\n",
    "df2.to_excel(r'Target_Excel_location\\\\Excel_Name.xlsx',index=False) # define the target folder and file location"
   ]
  },
  {
   "cell_type": "markdown",
   "metadata": {},
   "source": [
    "Step 5.2 To get report harmonization sheet details use below code"
   ]
  },
  {
   "cell_type": "code",
   "execution_count": null,
   "metadata": {},
   "outputs": [],
   "source": [
    "df2 = pd.DataFrame(columns=['Package','Functional Area','Report_Count','Required Report'])\n",
    "#Give the source folder location\n",
    "file_list_1 = glob.glob('Folder_Location' + \"/*.xlsm\")\n",
    "for i in file_list_1:\n",
    "    print(i)\n",
    "    file_name = i.split('\\\\')[-1]\n",
    "    file_name = re.sub('.xlsm','',file_name)\n",
    "    wb = openpyxl.load_workbook(i,read_only=True,keep_vba=True)\n",
    "    sheet = wb['Summary']\n",
    "    c7 = sheet['C7'].value\n",
    "    c9 = sheet['C9'].value\n",
    "    c4 = sheet['C4'].value\n",
    "    #c4 = sheet['C4'].value\n",
    "    df2 = df2._append({'Package':file_name,'Functional Area':c4,'Report_Count':c7,'Required Report':c9},ignore_index=True)\n",
    "df2.to_excel(r'Target_Excel_location\\\\Excel_Name.xlsx',index=False) # define the target folder and file location"
   ]
  },
  {
   "cell_type": "code",
   "execution_count": null,
   "metadata": {},
   "outputs": [],
   "source": [
    "df1=df_2.groupby(['ATTRIBUTE_AGGREGATION','ATTRIBUTE_TYPE'])['REPORT_NAME'].nunique().reset_index(name='DistinctReportCount')"
   ]
  }
 ],
 "metadata": {
  "language_info": {
   "name": "python"
  },
  "orig_nbformat": 4
 },
 "nbformat": 4,
 "nbformat_minor": 2
}
